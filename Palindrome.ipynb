{
 "cells": [
  {
   "cell_type": "code",
   "execution_count": 5,
   "id": "9eb9b903-0373-4423-a667-5d0eabc0d038",
   "metadata": {},
   "outputs": [
    {
     "name": "stdin",
     "output_type": "stream",
     "text": [
      "Enter the word:  madam\n"
     ]
    },
    {
     "name": "stdout",
     "output_type": "stream",
     "text": [
      "Given word is a Palindrome\n"
     ]
    }
   ],
   "source": [
    "# WAP for String Palindrome\n",
    "word =input('Enter the word: ')\n",
    "reverse_string = word [ : : -1]\n",
    "if (word == reverse_string):\n",
    "    print(\"Given word is a Palindrome\")\n",
    "else:\n",
    "    print(\"Given word is NOT a Palindrome\")\n"
   ]
  },
  {
   "cell_type": "code",
   "execution_count": 21,
   "id": "23b41725-7a58-4a2e-a201-77b8e6c3590e",
   "metadata": {},
   "outputs": [
    {
     "name": "stdin",
     "output_type": "stream",
     "text": [
      "Enter the number:  121\n"
     ]
    },
    {
     "name": "stdout",
     "output_type": "stream",
     "text": [
      "Number is a Palindrome\n"
     ]
    }
   ],
   "source": [
    "# WAP for number Palindrome\n",
    "num =int(input('Enter the number: '))\n",
    "original = num\n",
    "reverse = 0\n",
    "\n",
    "while num > 0:\n",
    "    digit = num % 10  \n",
    "    reverse = reverse * 10 + digit\n",
    "    num = num // 10  \n",
    "    \n",
    "if original == reverse:\n",
    "    print(\"Number is a Palindrome\")\n",
    "else:\n",
    "    print(\"Number is NOT a Palindrome\")"
   ]
  },
  {
   "cell_type": "code",
   "execution_count": 33,
   "id": "585d010b-1832-4782-860a-56b05a4d14ae",
   "metadata": {},
   "outputs": [
    {
     "name": "stdin",
     "output_type": "stream",
     "text": [
      "Enter the number:  5\n"
     ]
    },
    {
     "name": "stdout",
     "output_type": "stream",
     "text": [
      "Factorial of number  5 is :  120\n"
     ]
    }
   ],
   "source": [
    "# WAP for Factorial\n",
    "num =int(input('Enter the number: '))\n",
    "\n",
    "def cal_factorial(num):\n",
    "    factorial = 1\n",
    "    if num == 0 or num ==1:\n",
    "        return 1\n",
    "    for i in range(1, num+1):\n",
    "        factorial = factorial * i\n",
    "    return factorial\n",
    "\n",
    "output = cal_factorial(num)\n",
    "print('Factorial of number ', num, 'is : ', output)"
   ]
  },
  {
   "cell_type": "code",
   "execution_count": 35,
   "id": "ca00b2db-026a-4ece-beaa-5676d86ea5e2",
   "metadata": {},
   "outputs": [
    {
     "name": "stdin",
     "output_type": "stream",
     "text": [
      "Enter the number:  5\n"
     ]
    },
    {
     "name": "stdout",
     "output_type": "stream",
     "text": [
      "Factorial of number  5 is :  120\n"
     ]
    }
   ],
   "source": [
    "# WAP for Factorial using library function\n",
    "num =int(input('Enter the number: '))\n",
    "import math\n",
    "output = cal_factorial(num)\n",
    "print('Factorial of number ', num, 'is : ', output)"
   ]
  },
  {
   "cell_type": "code",
   "execution_count": null,
   "id": "f47a5ed1-37c3-4ee8-8140-3a9f083c4303",
   "metadata": {},
   "outputs": [],
   "source": []
  }
 ],
 "metadata": {
  "kernelspec": {
   "display_name": "Python [conda env:base] *",
   "language": "python",
   "name": "conda-base-py"
  },
  "language_info": {
   "codemirror_mode": {
    "name": "ipython",
    "version": 3
   },
   "file_extension": ".py",
   "mimetype": "text/x-python",
   "name": "python",
   "nbconvert_exporter": "python",
   "pygments_lexer": "ipython3",
   "version": "3.12.7"
  }
 },
 "nbformat": 4,
 "nbformat_minor": 5
}
