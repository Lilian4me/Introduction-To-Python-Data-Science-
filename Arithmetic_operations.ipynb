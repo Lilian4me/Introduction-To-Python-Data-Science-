{
 "cells": [
  {
   "cell_type": "code",
   "execution_count": 1,
   "id": "9ff64b33-4306-43ba-a6ee-4dd6c861d8fc",
   "metadata": {},
   "outputs": [
    {
     "name": "stdout",
     "output_type": "stream",
     "text": [
      "14\n"
     ]
    }
   ],
   "source": [
    "print(10 + 4)"
   ]
  },
  {
   "cell_type": "code",
   "execution_count": 3,
   "id": "069cd54d-9d64-4506-9446-7bede1073869",
   "metadata": {},
   "outputs": [
    {
     "name": "stdout",
     "output_type": "stream",
     "text": [
      "6\n"
     ]
    }
   ],
   "source": [
    "print(10 - 4)"
   ]
  },
  {
   "cell_type": "code",
   "execution_count": 5,
   "id": "5e40a9c6-7524-4f05-988f-dd677d512df0",
   "metadata": {},
   "outputs": [
    {
     "name": "stdout",
     "output_type": "stream",
     "text": [
      "40\n"
     ]
    }
   ],
   "source": [
    "print(10 * 4)"
   ]
  },
  {
   "cell_type": "code",
   "execution_count": 7,
   "id": "3181d387-53d7-4779-ae2c-fb2f97b0acbf",
   "metadata": {},
   "outputs": [
    {
     "name": "stdout",
     "output_type": "stream",
     "text": [
      "10000\n"
     ]
    }
   ],
   "source": [
    "print(10 ** 4)"
   ]
  },
  {
   "cell_type": "code",
   "execution_count": 9,
   "id": "ef9b1d2a-2f8e-4fe1-9a26-3ead7d9b317e",
   "metadata": {},
   "outputs": [
    {
     "name": "stdout",
     "output_type": "stream",
     "text": [
      "2.5\n"
     ]
    }
   ],
   "source": [
    "print(10 / 4)"
   ]
  },
  {
   "cell_type": "code",
   "execution_count": 11,
   "id": "158aea03-5bb0-47db-adc7-690492923d45",
   "metadata": {},
   "outputs": [
    {
     "name": "stdout",
     "output_type": "stream",
     "text": [
      "1\n"
     ]
    }
   ],
   "source": [
    "print(5 % 4)"
   ]
  },
  {
   "cell_type": "code",
   "execution_count": 13,
   "id": "4cd83919-2242-41bf-a663-24fa13fc1ea8",
   "metadata": {},
   "outputs": [
    {
     "name": "stdout",
     "output_type": "stream",
     "text": [
      "True\n"
     ]
    }
   ],
   "source": [
    "print(5 > 4)"
   ]
  },
  {
   "cell_type": "code",
   "execution_count": 15,
   "id": "edc1c814-8402-4562-959f-05bef00ed5b3",
   "metadata": {},
   "outputs": [
    {
     "name": "stdout",
     "output_type": "stream",
     "text": [
      "True\n"
     ]
    }
   ],
   "source": [
    "print(5 >=3 )"
   ]
  },
  {
   "cell_type": "code",
   "execution_count": 17,
   "id": "26b4a5e4-564c-4159-980d-a656ffcd3fd7",
   "metadata": {},
   "outputs": [
    {
     "name": "stdout",
     "output_type": "stream",
     "text": [
      "False\n"
     ]
    }
   ],
   "source": [
    "print(5 != 5)"
   ]
  },
  {
   "cell_type": "code",
   "execution_count": 19,
   "id": "fb31e1f5-896e-4f7d-9b63-25b27bbfdc41",
   "metadata": {},
   "outputs": [
    {
     "name": "stdout",
     "output_type": "stream",
     "text": [
      "True\n"
     ]
    }
   ],
   "source": [
    "print(5 == 5)"
   ]
  },
  {
   "cell_type": "code",
   "execution_count": 21,
   "id": "188a28db-5414-423d-88f5-9f1deaf147ca",
   "metadata": {},
   "outputs": [
    {
     "data": {
      "text/plain": [
       "False"
      ]
     },
     "execution_count": 21,
     "metadata": {},
     "output_type": "execute_result"
    }
   ],
   "source": [
    "10==20"
   ]
  },
  {
   "cell_type": "code",
   "execution_count": 23,
   "id": "b33f5d81-adf1-4222-bb08-43e0008e76ab",
   "metadata": {},
   "outputs": [
    {
     "data": {
      "text/plain": [
       "True"
      ]
     },
     "execution_count": 23,
     "metadata": {},
     "output_type": "execute_result"
    }
   ],
   "source": [
    "10!=20"
   ]
  },
  {
   "cell_type": "code",
   "execution_count": 25,
   "id": "dc6247dc-1537-47bb-b773-f89c6a34443e",
   "metadata": {},
   "outputs": [
    {
     "data": {
      "text/plain": [
       "False"
      ]
     },
     "execution_count": 25,
     "metadata": {},
     "output_type": "execute_result"
    }
   ],
   "source": [
    "10==True"
   ]
  },
  {
   "cell_type": "code",
   "execution_count": null,
   "id": "b6b9631a-c459-4437-8695-2141101a5a2b",
   "metadata": {},
   "outputs": [],
   "source": [
    "false==false"
   ]
  },
  {
   "cell_type": "code",
   "execution_count": 31,
   "id": "80d0776d-d05b-43a8-a542-eea26b7cae27",
   "metadata": {},
   "outputs": [
    {
     "data": {
      "text/plain": [
       "True"
      ]
     },
     "execution_count": 31,
     "metadata": {},
     "output_type": "execute_result"
    }
   ],
   "source": [
    "\"durga\"==\"durga\""
   ]
  },
  {
   "cell_type": "code",
   "execution_count": 33,
   "id": "df7505ab-04e6-46c1-a330-3330f2843a2c",
   "metadata": {},
   "outputs": [
    {
     "data": {
      "text/plain": [
       "False"
      ]
     },
     "execution_count": 33,
     "metadata": {},
     "output_type": "execute_result"
    }
   ],
   "source": [
    "10==\"durga\""
   ]
  },
  {
   "cell_type": "code",
   "execution_count": 35,
   "id": "03bde668-359a-4d98-92c2-d88ebff1a045",
   "metadata": {},
   "outputs": [
    {
     "name": "stdout",
     "output_type": "stream",
     "text": [
      "Both a and b are greater than 0\n"
     ]
    }
   ],
   "source": [
    "#logical and operator\n",
    "a = 10\n",
    "b = 20\n",
    "if a > 0 and b > 0:\n",
    "    print(\"Both a and b are greater than 0\")\n",
    "    "
   ]
  },
  {
   "cell_type": "code",
   "execution_count": 39,
   "id": "af84cfa9-504f-4ece-ac27-6d99ef9d897f",
   "metadata": {},
   "outputs": [
    {
     "name": "stdout",
     "output_type": "stream",
     "text": [
      "Either a or b are greater than 0\n"
     ]
    }
   ],
   "source": [
    "#logical or operator\n",
    "a = 10\n",
    "b = -5\n",
    "if a > 0 or b > 0:\n",
    "    print(\"Either a or b are greater than 0\")"
   ]
  },
  {
   "cell_type": "code",
   "execution_count": 41,
   "id": "4c286f14-7e45-4a55-9802-307e74e6da35",
   "metadata": {},
   "outputs": [
    {
     "name": "stdout",
     "output_type": "stream",
     "text": [
      "a is True\n"
     ]
    }
   ],
   "source": [
    "#logical not operator\n",
    "a = True\n",
    "if not a:\n",
    "    print(\"a is false\")\n",
    "else:\n",
    "    print(\"a is True\")"
   ]
  },
  {
   "cell_type": "code",
   "execution_count": 45,
   "id": "21604a58-0ee8-4935-b646-2e4367db9e52",
   "metadata": {},
   "outputs": [
    {
     "name": "stdout",
     "output_type": "stream",
     "text": [
      "4\n"
     ]
    }
   ],
   "source": [
    "#Bitwise AND\n",
    "a = 12\n",
    "b = 7\n",
    "result = a & b\n",
    "print(result)"
   ]
  },
  {
   "cell_type": "code",
   "execution_count": 47,
   "id": "5d7fec34-3945-4f42-bc86-a5a7f10fada0",
   "metadata": {},
   "outputs": [
    {
     "name": "stdout",
     "output_type": "stream",
     "text": [
      "15\n"
     ]
    }
   ],
   "source": [
    "#Bitwise OR\n",
    "a = 12\n",
    "b = 7\n",
    "result = a | b\n",
    "print(result)"
   ]
  },
  {
   "cell_type": "code",
   "execution_count": 49,
   "id": "916b03c8-5a0b-4c5b-8828-8382da5b9c0f",
   "metadata": {},
   "outputs": [
    {
     "name": "stdout",
     "output_type": "stream",
     "text": [
      "10\n"
     ]
    }
   ],
   "source": [
    "#assignment operator\n",
    "x = 10\n",
    "print(x)"
   ]
  },
  {
   "cell_type": "code",
   "execution_count": 51,
   "id": "c241fe28-7967-4b2f-9d34-a2c052175629",
   "metadata": {},
   "outputs": [
    {
     "name": "stdout",
     "output_type": "stream",
     "text": [
      "15\n"
     ]
    }
   ],
   "source": [
    "x += 5\n",
    "print(x)"
   ]
  },
  {
   "cell_type": "code",
   "execution_count": 53,
   "id": "c6ee1779-7981-427a-87d3-91e6eac4f0d0",
   "metadata": {},
   "outputs": [
    {
     "name": "stdout",
     "output_type": "stream",
     "text": [
      "12\n"
     ]
    }
   ],
   "source": [
    "x -= 3\n",
    "print(x)"
   ]
  },
  {
   "cell_type": "code",
   "execution_count": 55,
   "id": "d98c4d88-848a-4c50-8322-c52a51f0fecd",
   "metadata": {},
   "outputs": [
    {
     "name": "stdout",
     "output_type": "stream",
     "text": [
      "24\n"
     ]
    }
   ],
   "source": [
    "x *= 2\n",
    "print(x)"
   ]
  },
  {
   "cell_type": "code",
   "execution_count": 57,
   "id": "60a76fb3-4bcd-488a-aff6-d6c505768924",
   "metadata": {},
   "outputs": [
    {
     "name": "stdout",
     "output_type": "stream",
     "text": [
      "6.0\n"
     ]
    }
   ],
   "source": [
    "#Division assignment\n",
    "x /= 4\n",
    "print(x)"
   ]
  },
  {
   "cell_type": "code",
   "execution_count": 59,
   "id": "6316a8b3-1215-443d-9cfa-f55c48d293e0",
   "metadata": {},
   "outputs": [
    {
     "name": "stdout",
     "output_type": "stream",
     "text": [
      "0.0\n"
     ]
    }
   ],
   "source": [
    "#Modulus assignment\n",
    "x %= 3\n",
    "print(x)"
   ]
  },
  {
   "cell_type": "code",
   "execution_count": 61,
   "id": "244e7ef6-94c8-4d60-b487-c7043c7ef085",
   "metadata": {},
   "outputs": [
    {
     "name": "stdout",
     "output_type": "stream",
     "text": [
      "0.0\n"
     ]
    }
   ],
   "source": [
    "#Exponentiation assignment\n",
    "x **= 2\n",
    "print(x)"
   ]
  },
  {
   "cell_type": "code",
   "execution_count": 63,
   "id": "a563579c-7410-4f7b-b02c-8ef03b4a7837",
   "metadata": {},
   "outputs": [
    {
     "name": "stdout",
     "output_type": "stream",
     "text": [
      "0.0\n"
     ]
    }
   ],
   "source": [
    "#Floor Division assignment\n",
    "x //3\n",
    "print(x)"
   ]
  },
  {
   "cell_type": "code",
   "execution_count": 65,
   "id": "b3535423-5bbb-469a-adf5-b0c212b4d522",
   "metadata": {},
   "outputs": [
    {
     "name": "stdout",
     "output_type": "stream",
     "text": [
      "15\n"
     ]
    }
   ],
   "source": [
    "#Arithmetic\n",
    "x = 10 + 5\n",
    "print(x)"
   ]
  },
  {
   "cell_type": "code",
   "execution_count": 69,
   "id": "4eb79ed4-1c66-47d9-80ff-67d80d3e1fcb",
   "metadata": {},
   "outputs": [
    {
     "name": "stdout",
     "output_type": "stream",
     "text": [
      "5\n"
     ]
    }
   ],
   "source": [
    "y = 10 - 5\n",
    "print(y)"
   ]
  },
  {
   "cell_type": "code",
   "execution_count": null,
   "id": "27b324ed-df97-477e-80b0-572eb987e44f",
   "metadata": {},
   "outputs": [],
   "source": [
    "z = 10 - 5\n",
    "print(z)"
   ]
  },
  {
   "cell_type": "code",
   "execution_count": null,
   "id": "d5e62e05-49b2-45bf-8701-e73581aba918",
   "metadata": {},
   "outputs": [],
   "source": [
    "w = 10 - 5\n",
    "print(w)"
   ]
  },
  {
   "cell_type": "code",
   "execution_count": null,
   "id": "d89f648c-559c-41be-a016-d75c3d3654ed",
   "metadata": {},
   "outputs": [],
   "source": [
    "mod = 10 - 5\n",
    "print(mod)"
   ]
  },
  {
   "cell_type": "code",
   "execution_count": null,
   "id": "a025524e-aa88-461b-9dd7-dc9d30483967",
   "metadata": {},
   "outputs": [],
   "source": [
    "exp= 10 - 5\n",
    "print(e)"
   ]
  },
  {
   "cell_type": "code",
   "execution_count": null,
   "id": "94b06cff-6678-4d2f-aa32-23b8a6f64ff1",
   "metadata": {},
   "outputs": [],
   "source": [
    "y = 10 - 5\n",
    "print(y)"
   ]
  }
 ],
 "metadata": {
  "kernelspec": {
   "display_name": "Python [conda env:base] *",
   "language": "python",
   "name": "conda-base-py"
  },
  "language_info": {
   "codemirror_mode": {
    "name": "ipython",
    "version": 3
   },
   "file_extension": ".py",
   "mimetype": "text/x-python",
   "name": "python",
   "nbconvert_exporter": "python",
   "pygments_lexer": "ipython3",
   "version": "3.12.7"
  }
 },
 "nbformat": 4,
 "nbformat_minor": 5
}
