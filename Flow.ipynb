{
 "cells": [
  {
   "cell_type": "code",
   "execution_count": 1,
   "id": "442f03c9-9126-4d6c-a6f3-371e22ee07e2",
   "metadata": {},
   "outputs": [
    {
     "name": "stdin",
     "output_type": "stream",
     "text": [
      "Enter the marks:  91\n"
     ]
    },
    {
     "name": "stdout",
     "output_type": "stream",
     "text": [
      "Grade: A\n"
     ]
    }
   ],
   "source": [
    "#WAP to assign grades according to the student's final marks,>=90:A, >=80:B,>=70:C,>=60:D, else F\n",
    "grades =int(input(\"Enter the marks: \"))\n",
    "\n",
    "if grades >= 90:\n",
    "  print('Grade: A')\n",
    "elif grades >= 80:\n",
    "    print('Grade: B')\n",
    "elif grades >= 70:\n",
    "    print('Grade: C')\n",
    "elif grades >= 60:\n",
    "    print('Grade: D')\n",
    "else:\n",
    "    print('Grade: F')"
   ]
  },
  {
   "cell_type": "code",
   "execution_count": 3,
   "id": "389c8a41-8183-484e-82a3-5177a240c2d6",
   "metadata": {},
   "outputs": [
    {
     "name": "stdout",
     "output_type": "stream",
     "text": [
      "*\n",
      "**\n",
      "***\n",
      "****\n",
      "*****\n"
     ]
    }
   ],
   "source": [
    "rows =5\n",
    "for i in range(1, rows+1):\n",
    "    print('*' * i)\n",
    "    "
   ]
  },
  {
   "cell_type": "code",
   "execution_count": 5,
   "id": "881c9b33-db35-4807-a294-1a1933d9816b",
   "metadata": {},
   "outputs": [
    {
     "name": "stdin",
     "output_type": "stream",
     "text": [
      "Enter the number:  20\n"
     ]
    },
    {
     "name": "stdout",
     "output_type": "stream",
     "text": [
      "0 1 1 2 3 5 8 13 21 34 55 89 144 233 377 610 987 1597 2584 4181 "
     ]
    }
   ],
   "source": [
    "# WAP Fibonacci series\n",
    "n =int(input('Enter the number: '))\n",
    "a,b =0,1\n",
    "for _ in range(n):\n",
    "    print(a, end= ' ')\n",
    "    a,b = b, a + b "
   ]
  },
  {
   "cell_type": "code",
   "execution_count": 9,
   "id": "3bbbb3b5-9454-42b8-bb92-85ae29d2a5e2",
   "metadata": {},
   "outputs": [
    {
     "name": "stdin",
     "output_type": "stream",
     "text": [
      "Enter the number:  56\n"
     ]
    },
    {
     "name": "stdout",
     "output_type": "stream",
     "text": [
      "The sum of the digits is:  11\n"
     ]
    }
   ],
   "source": [
    "#WAP to take a number as an input print the sum of its digit\n",
    "\n",
    "num =int(input('Enter the number: '))\n",
    "sum = 0\n",
    "\n",
    "while num > 0:\n",
    "    digit = num % 10\n",
    "    sum += digit\n",
    "    num //= 10\n",
    "    \n",
    "print ('The sum of the digits is: ', sum)\n"
   ]
  },
  {
   "cell_type": "code",
   "execution_count": 28,
   "id": "1c101636-6739-45d9-a25a-640c297624e9",
   "metadata": {},
   "outputs": [
    {
     "name": "stdin",
     "output_type": "stream",
     "text": [
      "Enter the number:  40\n"
     ]
    },
    {
     "name": "stdout",
     "output_type": "stream",
     "text": [
      "Reversed number:  4\n"
     ]
    }
   ],
   "source": [
    "#WAP\n",
    "num =int(input('Enter the number: '))\n",
    "reverse = 0\n",
    "\n",
    "while num > 0:\n",
    "    digit = num % 10  # Get the last digit\n",
    "    reverse = reverse * 10 + digit\n",
    "    num = num // 10  # Remove the last digit\n",
    "\n",
    "# Print the reverse of the number\n",
    "print(\"Reversed number: \" , reverse)"
   ]
  },
  {
   "cell_type": "code",
   "execution_count": 23,
   "id": "35f74566-ad1c-4fb1-9865-5bd3e95050da",
   "metadata": {},
   "outputs": [
    {
     "name": "stdin",
     "output_type": "stream",
     "text": [
      "Enter the first number:  45\n",
      "Enter the first number:  0\n"
     ]
    },
    {
     "name": "stdout",
     "output_type": "stream",
     "text": [
      "Error: Division by zero is not allowed\n"
     ]
    }
   ],
   "source": [
    "#Exception Handling\n",
    "#WAP that takes to number as input and perform division. Handle the\n",
    "try:\n",
    "  num1 =int(input('Enter the first number: '))\n",
    "  num2 =int(input('Enter the first number: '))\n",
    "  result = num1/num2\n",
    "  print('Result: ',result)\n",
    "except ZeroDivisionError:\n",
    "    print('Error: Division by zero is not allowed')"
   ]
  },
  {
   "cell_type": "code",
   "execution_count": 63,
   "id": "6614b16f-63ad-4394-b527-232cd313dd57",
   "metadata": {},
   "outputs": [
    {
     "name": "stdin",
     "output_type": "stream",
     "text": [
      "Enter the number to obtain Fibonacci sequence :  20\n"
     ]
    },
    {
     "name": "stdout",
     "output_type": "stream",
     "text": [
      "0 1 1 2 3 5 8 13 21 34 55 89 144 233 377 610 987 1597 2584 4181 "
     ]
    }
   ],
   "source": [
    "# WAP Fibonacci series\n",
    "num =int(input('Enter the number to obtain Fibonacci sequence : '))\n",
    "a = 0\n",
    "b = 1\n",
    "sum = 0\n",
    "\n",
    "if num <= 0:\n",
    "    print('Please enter number greater than 0')\n",
    "else:\n",
    "    for i in range (0, num):\n",
    "        print(sum, end = \" \")\n",
    "        a = b\n",
    "        b = sum\n",
    "        sum = a + b \n",
    "\n",
    "  \n",
    "\n"
   ]
  },
  {
   "cell_type": "code",
   "execution_count": null,
   "id": "abc657aa-3500-4b87-be82-47edaa912008",
   "metadata": {},
   "outputs": [],
   "source": [
    "# WAP Fibonacci series\n",
    "n =int(input('Enter the number to obtain Fibonacci sequence : '))\n",
    "a = 0\n",
    "b = 1\n",
    "sum = 0\n",
    "while num > 0:\n",
    "      print(sum, end= ' ')\n",
    "      a = b\n",
    "      b = sum\n",
    "      sum = a + b "
   ]
  }
 ],
 "metadata": {
  "kernelspec": {
   "display_name": "Python [conda env:base] *",
   "language": "python",
   "name": "conda-base-py"
  },
  "language_info": {
   "codemirror_mode": {
    "name": "ipython",
    "version": 3
   },
   "file_extension": ".py",
   "mimetype": "text/x-python",
   "name": "python",
   "nbconvert_exporter": "python",
   "pygments_lexer": "ipython3",
   "version": "3.12.7"
  }
 },
 "nbformat": 4,
 "nbformat_minor": 5
}
