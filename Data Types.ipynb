{
 "cells": [
  {
   "cell_type": "code",
   "execution_count": 3,
   "id": "c600229e-6e8b-489f-981d-02363fc17235",
   "metadata": {},
   "outputs": [
    {
     "name": "stdout",
     "output_type": "stream",
     "text": [
      "Data Science\n"
     ]
    },
    {
     "data": {
      "text/plain": [
       "str"
      ]
     },
     "execution_count": 3,
     "metadata": {},
     "output_type": "execute_result"
    }
   ],
   "source": [
    "# bool, int, float,str\n",
    "a = 'Data Science'\n",
    "print(a)\n",
    "type(a)"
   ]
  },
  {
   "cell_type": "code",
   "execution_count": 5,
   "id": "6de5f9bc-bc17-4631-909f-2f4ecb4c2ad3",
   "metadata": {},
   "outputs": [
    {
     "data": {
      "text/plain": [
       "bool"
      ]
     },
     "execution_count": 5,
     "metadata": {},
     "output_type": "execute_result"
    }
   ],
   "source": [
    "z = True\n",
    "type(z)"
   ]
  },
  {
   "cell_type": "code",
   "execution_count": 11,
   "id": "6c89f05d-53f6-4963-96a0-77ed359c51d3",
   "metadata": {},
   "outputs": [
    {
     "data": {
      "text/plain": [
       "int"
      ]
     },
     "execution_count": 11,
     "metadata": {},
     "output_type": "execute_result"
    }
   ],
   "source": [
    "b = 3\n",
    "type(b)"
   ]
  },
  {
   "cell_type": "code",
   "execution_count": 9,
   "id": "959f5801-027d-4d58-8faa-af04532add9a",
   "metadata": {},
   "outputs": [
    {
     "data": {
      "text/plain": [
       "float"
      ]
     },
     "execution_count": 9,
     "metadata": {},
     "output_type": "execute_result"
    }
   ],
   "source": [
    "c= 3.45\n",
    "type(c)"
   ]
  },
  {
   "cell_type": "code",
   "execution_count": 3,
   "id": "42903632-edfe-40a6-b181-5d7a98551dfc",
   "metadata": {},
   "outputs": [
    {
     "data": {
      "text/plain": [
       "14.5"
      ]
     },
     "execution_count": 3,
     "metadata": {},
     "output_type": "execute_result"
    }
   ],
   "source": [
    "#Type Casting\n",
    "# bool -> int -> float -> str\n",
    "True + 6 + 7.5\n",
    "# 1+6+7.5"
   ]
  },
  {
   "cell_type": "code",
   "execution_count": 5,
   "id": "a46c836a-8f44-4cbc-9150-f636b9ae917b",
   "metadata": {},
   "outputs": [
    {
     "data": {
      "text/plain": [
       "10"
      ]
     },
     "execution_count": 5,
     "metadata": {},
     "output_type": "execute_result"
    }
   ],
   "source": [
    "int(7.5) + 3"
   ]
  },
  {
   "cell_type": "code",
   "execution_count": 7,
   "id": "a60981b3-5e73-48ae-90ab-eb2e4a927a0b",
   "metadata": {},
   "outputs": [
    {
     "data": {
      "text/plain": [
       "False"
      ]
     },
     "execution_count": 7,
     "metadata": {},
     "output_type": "execute_result"
    }
   ],
   "source": [
    "bool(0)"
   ]
  },
  {
   "cell_type": "code",
   "execution_count": 9,
   "id": "acd6d51a-092a-428f-ae77-fe162ce601f0",
   "metadata": {},
   "outputs": [
    {
     "data": {
      "text/plain": [
       "8"
      ]
     },
     "execution_count": 9,
     "metadata": {},
     "output_type": "execute_result"
    }
   ],
   "source": [
    "#Auto Typecasting\n",
    "True + 3 + int(4.5)"
   ]
  },
  {
   "cell_type": "code",
   "execution_count": 19,
   "id": "bb740738-2790-40f4-b8ea-67507fa83579",
   "metadata": {},
   "outputs": [
    {
     "name": "stdout",
     "output_type": "stream",
     "text": [
      "<class 'int'>\n",
      "<class 'float'>\n"
     ]
    }
   ],
   "source": [
    "a = 3\n",
    "b = 4.5\n",
    "print(type(a))\n",
    "print(type(b))"
   ]
  },
  {
   "cell_type": "code",
   "execution_count": 21,
   "id": "2dc2b554-077c-41e0-934c-80422cc06357",
   "metadata": {},
   "outputs": [
    {
     "data": {
      "text/plain": [
       "7"
      ]
     },
     "execution_count": 21,
     "metadata": {},
     "output_type": "execute_result"
    }
   ],
   "source": [
    "a + int(b)"
   ]
  },
  {
   "cell_type": "code",
   "execution_count": 23,
   "id": "56975f85-885b-4aba-98d6-c1c8fc880e0f",
   "metadata": {},
   "outputs": [
    {
     "data": {
      "text/plain": [
       "7"
      ]
     },
     "execution_count": 23,
     "metadata": {},
     "output_type": "execute_result"
    }
   ],
   "source": [
    "3 + int('4')"
   ]
  },
  {
   "cell_type": "code",
   "execution_count": 25,
   "id": "1c1c0297-b480-48ae-943b-25cbe2eed498",
   "metadata": {},
   "outputs": [
    {
     "data": {
      "text/plain": [
       "4"
      ]
     },
     "execution_count": 25,
     "metadata": {},
     "output_type": "execute_result"
    }
   ],
   "source": [
    "# True  -> 1, False  -> 0\n",
    "False + 4"
   ]
  },
  {
   "cell_type": "code",
   "execution_count": 27,
   "id": "284da433-726a-45b3-be7d-635156d1904a",
   "metadata": {},
   "outputs": [
    {
     "data": {
      "text/plain": [
       "123"
      ]
     },
     "execution_count": 27,
     "metadata": {},
     "output_type": "execute_result"
    }
   ],
   "source": [
    " >>> int(123.987)"
   ]
  },
  {
   "cell_type": "code",
   "execution_count": null,
   "id": "ffb07516-7caf-4df0-a010-dbe419b9319a",
   "metadata": {},
   "outputs": [],
   "source": [
    "int(10 + 5j) --------Error"
   ]
  },
  {
   "cell_type": "code",
   "execution_count": 33,
   "id": "89be2022-6d19-4cb0-bac1-60ea1b24dc9c",
   "metadata": {},
   "outputs": [
    {
     "data": {
      "text/plain": [
       "1"
      ]
     },
     "execution_count": 33,
     "metadata": {},
     "output_type": "execute_result"
    }
   ],
   "source": [
    "int(True)"
   ]
  },
  {
   "cell_type": "code",
   "execution_count": 35,
   "id": "1d2b3610-33eb-4872-8dc3-53085e7f4530",
   "metadata": {},
   "outputs": [
    {
     "data": {
      "text/plain": [
       "0"
      ]
     },
     "execution_count": 35,
     "metadata": {},
     "output_type": "execute_result"
    }
   ],
   "source": [
    "int(False)"
   ]
  },
  {
   "cell_type": "code",
   "execution_count": 37,
   "id": "1af3e1ac-5e9d-471e-b103-fb621d7764aa",
   "metadata": {},
   "outputs": [
    {
     "data": {
      "text/plain": [
       "10"
      ]
     },
     "execution_count": 37,
     "metadata": {},
     "output_type": "execute_result"
    }
   ],
   "source": [
    "int(\"10\")"
   ]
  },
  {
   "cell_type": "code",
   "execution_count": null,
   "id": "ab2de43d-5cef-437b-bf3e-8fde78508f16",
   "metadata": {},
   "outputs": [],
   "source": [
    "int(\"10.5\")--------Error"
   ]
  },
  {
   "cell_type": "code",
   "execution_count": null,
   "id": "65557897-946c-4ad4-b670-fd8aa53e8bb0",
   "metadata": {},
   "outputs": [],
   "source": [
    "int(\"ten\")--------Error"
   ]
  },
  {
   "cell_type": "code",
   "execution_count": null,
   "id": "2f681da6-7495-4a38-bd2b-55e09b730989",
   "metadata": {},
   "outputs": [],
   "source": [
    "int(\"0B1111\")--------Error"
   ]
  },
  {
   "cell_type": "code",
   "execution_count": 51,
   "id": "70047601-3f29-4810-a97e-fcaf0d90b6a6",
   "metadata": {},
   "outputs": [
    {
     "data": {
      "text/plain": [
       "10.0"
      ]
     },
     "execution_count": 51,
     "metadata": {},
     "output_type": "execute_result"
    }
   ],
   "source": [
    "float(10)"
   ]
  },
  {
   "cell_type": "code",
   "execution_count": null,
   "id": "a6eca5f6-5482-4ef2-81cc-7cd9273eade0",
   "metadata": {},
   "outputs": [],
   "source": [
    "float(10 + 5j) -------Error"
   ]
  },
  {
   "cell_type": "code",
   "execution_count": 53,
   "id": "b33589c2-6ca9-422e-8c4d-0218a906e43b",
   "metadata": {},
   "outputs": [
    {
     "data": {
      "text/plain": [
       "1.0"
      ]
     },
     "execution_count": 53,
     "metadata": {},
     "output_type": "execute_result"
    }
   ],
   "source": [
    "float(True)"
   ]
  },
  {
   "cell_type": "code",
   "execution_count": 55,
   "id": "259368f2-b392-4686-90ac-5f3dab25f0ea",
   "metadata": {},
   "outputs": [
    {
     "data": {
      "text/plain": [
       "0.0"
      ]
     },
     "execution_count": 55,
     "metadata": {},
     "output_type": "execute_result"
    }
   ],
   "source": [
    "float(False)"
   ]
  },
  {
   "cell_type": "code",
   "execution_count": 57,
   "id": "f311713b-13ed-4708-a653-f460d2145ccb",
   "metadata": {},
   "outputs": [
    {
     "data": {
      "text/plain": [
       "10"
      ]
     },
     "execution_count": 57,
     "metadata": {},
     "output_type": "execute_result"
    }
   ],
   "source": [
    "int(\"10\")"
   ]
  },
  {
   "cell_type": "code",
   "execution_count": 59,
   "id": "f043e0d9-cfce-48b8-b44c-4f67cbc8dc76",
   "metadata": {},
   "outputs": [
    {
     "data": {
      "text/plain": [
       "10.5"
      ]
     },
     "execution_count": 59,
     "metadata": {},
     "output_type": "execute_result"
    }
   ],
   "source": [
    "float(\"10.5\")"
   ]
  },
  {
   "cell_type": "code",
   "execution_count": null,
   "id": "9ba75ea9-000a-49a7-99d9-03068ca40f0b",
   "metadata": {},
   "outputs": [],
   "source": [
    "float(\"ten\")--------Error"
   ]
  },
  {
   "cell_type": "code",
   "execution_count": null,
   "id": "b751d21f-b3ae-4573-a8e3-75c72e7a6481",
   "metadata": {},
   "outputs": [],
   "source": [
    "float(\"0B1111\")--------Error"
   ]
  },
  {
   "cell_type": "code",
   "execution_count": 43,
   "id": "cad228c4-8509-4851-82aa-842ca3129b21",
   "metadata": {},
   "outputs": [
    {
     "data": {
      "text/plain": [
       "False"
      ]
     },
     "execution_count": 43,
     "metadata": {},
     "output_type": "execute_result"
    }
   ],
   "source": [
    "bool(0)\n"
   ]
  },
  {
   "cell_type": "code",
   "execution_count": 45,
   "id": "04925273-7cdd-480c-a185-029f79f9fe6d",
   "metadata": {},
   "outputs": [
    {
     "data": {
      "text/plain": [
       "True"
      ]
     },
     "execution_count": 45,
     "metadata": {},
     "output_type": "execute_result"
    }
   ],
   "source": [
    "bool(1)"
   ]
  },
  {
   "cell_type": "code",
   "execution_count": 47,
   "id": "10f2f85f-7082-46ed-a163-bdd0ed406f6b",
   "metadata": {},
   "outputs": [
    {
     "data": {
      "text/plain": [
       "True"
      ]
     },
     "execution_count": 47,
     "metadata": {},
     "output_type": "execute_result"
    }
   ],
   "source": [
    "bool(10)"
   ]
  },
  {
   "cell_type": "code",
   "execution_count": 49,
   "id": "d1875d86-ef85-4dfa-b0fb-a0c72d3b0772",
   "metadata": {},
   "outputs": [
    {
     "data": {
      "text/plain": [
       "True"
      ]
     },
     "execution_count": 49,
     "metadata": {},
     "output_type": "execute_result"
    }
   ],
   "source": [
    "bool(10.5)"
   ]
  },
  {
   "cell_type": "code",
   "execution_count": 63,
   "id": "9dddad11-e805-4910-a68d-056fea927f2c",
   "metadata": {},
   "outputs": [
    {
     "data": {
      "text/plain": [
       "True"
      ]
     },
     "execution_count": 63,
     "metadata": {},
     "output_type": "execute_result"
    }
   ],
   "source": [
    "bool(0.178)"
   ]
  },
  {
   "cell_type": "code",
   "execution_count": 65,
   "id": "2292e4e7-cdb9-4098-b760-7abb83bd92e5",
   "metadata": {},
   "outputs": [
    {
     "data": {
      "text/plain": [
       "False"
      ]
     },
     "execution_count": 65,
     "metadata": {},
     "output_type": "execute_result"
    }
   ],
   "source": [
    "bool(0.0)"
   ]
  },
  {
   "cell_type": "code",
   "execution_count": 67,
   "id": "2258b347-ab4c-4470-a5f3-dad0a54a210e",
   "metadata": {},
   "outputs": [
    {
     "data": {
      "text/plain": [
       "True"
      ]
     },
     "execution_count": 67,
     "metadata": {},
     "output_type": "execute_result"
    }
   ],
   "source": [
    "bool(10-2j)"
   ]
  },
  {
   "cell_type": "code",
   "execution_count": 69,
   "id": "94331622-c2fb-4ae7-9597-d2349dd2ea68",
   "metadata": {},
   "outputs": [
    {
     "data": {
      "text/plain": [
       "True"
      ]
     },
     "execution_count": 69,
     "metadata": {},
     "output_type": "execute_result"
    }
   ],
   "source": [
    "bool(0+1.5j)"
   ]
  },
  {
   "cell_type": "code",
   "execution_count": 71,
   "id": "c0292d27-72ca-4df8-8f38-9de3a3f9470a",
   "metadata": {},
   "outputs": [
    {
     "data": {
      "text/plain": [
       "False"
      ]
     },
     "execution_count": 71,
     "metadata": {},
     "output_type": "execute_result"
    }
   ],
   "source": [
    "bool(0.0j)"
   ]
  },
  {
   "cell_type": "code",
   "execution_count": 73,
   "id": "637eedc7-5be9-4801-9a99-3ed2d5d36dc8",
   "metadata": {},
   "outputs": [
    {
     "data": {
      "text/plain": [
       "True"
      ]
     },
     "execution_count": 73,
     "metadata": {},
     "output_type": "execute_result"
    }
   ],
   "source": [
    "bool(\"True\")"
   ]
  },
  {
   "cell_type": "code",
   "execution_count": 75,
   "id": "efb0304d-1309-4785-a3e8-323a62ca9084",
   "metadata": {},
   "outputs": [
    {
     "data": {
      "text/plain": [
       "True"
      ]
     },
     "execution_count": 75,
     "metadata": {},
     "output_type": "execute_result"
    }
   ],
   "source": [
    "bool(\"False\")"
   ]
  },
  {
   "cell_type": "code",
   "execution_count": 77,
   "id": "aafff5df-3592-4c77-b2a4-f520da3f9392",
   "metadata": {},
   "outputs": [
    {
     "data": {
      "text/plain": [
       "False"
      ]
     },
     "execution_count": 77,
     "metadata": {},
     "output_type": "execute_result"
    }
   ],
   "source": [
    "bool(\"\")"
   ]
  },
  {
   "cell_type": "code",
   "execution_count": null,
   "id": "e71408d7-db62-428e-ba02-2419f11b9389",
   "metadata": {},
   "outputs": [],
   "source": []
  }
 ],
 "metadata": {
  "kernelspec": {
   "display_name": "Python [conda env:base] *",
   "language": "python",
   "name": "conda-base-py"
  },
  "language_info": {
   "codemirror_mode": {
    "name": "ipython",
    "version": 3
   },
   "file_extension": ".py",
   "mimetype": "text/x-python",
   "name": "python",
   "nbconvert_exporter": "python",
   "pygments_lexer": "ipython3",
   "version": "3.12.7"
  }
 },
 "nbformat": 4,
 "nbformat_minor": 5
}
