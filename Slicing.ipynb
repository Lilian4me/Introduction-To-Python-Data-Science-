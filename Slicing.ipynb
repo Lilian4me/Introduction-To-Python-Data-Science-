{
 "cells": [
  {
   "cell_type": "code",
   "execution_count": 1,
   "id": "9eb9b903-0373-4423-a667-5d0eabc0d038",
   "metadata": {},
   "outputs": [
    {
     "data": {
      "text/plain": [
       "22"
      ]
     },
     "execution_count": 1,
     "metadata": {},
     "output_type": "execute_result"
    }
   ],
   "source": [
    "#WAP\n",
    "a=\"I am a Data Scientist\"\n",
    "len(a)"
   ]
  },
  {
   "cell_type": "code",
   "execution_count": 3,
   "id": "0e544a42-7963-4c05-b45a-825a24e0b5e7",
   "metadata": {},
   "outputs": [
    {
     "data": {
      "text/plain": [
       "'am'"
      ]
     },
     "execution_count": 3,
     "metadata": {},
     "output_type": "execute_result"
    }
   ],
   "source": [
    "a[2:4]"
   ]
  },
  {
   "cell_type": "code",
   "execution_count": 9,
   "id": "93e8624b-522f-4a8d-8c4f-a045942e60fa",
   "metadata": {},
   "outputs": [
    {
     "data": {
      "text/plain": [
       "'cienctist'"
      ]
     },
     "execution_count": 9,
     "metadata": {},
     "output_type": "execute_result"
    }
   ],
   "source": [
    "a[-9:]"
   ]
  },
  {
   "cell_type": "code",
   "execution_count": 11,
   "id": "c1fed126-f0aa-4b29-a594-9fc7e0f56c13",
   "metadata": {},
   "outputs": [
    {
     "data": {
      "text/plain": [
       "'Data scienctist'"
      ]
     },
     "execution_count": 11,
     "metadata": {},
     "output_type": "execute_result"
    }
   ],
   "source": [
    "a[7:]"
   ]
  },
  {
   "cell_type": "code",
   "execution_count": 13,
   "id": "065526c9-108b-43eb-8ee1-97c78ae2439a",
   "metadata": {},
   "outputs": [
    {
     "data": {
      "text/plain": [
       "'I am a '"
      ]
     },
     "execution_count": 13,
     "metadata": {},
     "output_type": "execute_result"
    }
   ],
   "source": [
    "a[:7]"
   ]
  },
  {
   "cell_type": "code",
   "execution_count": 15,
   "id": "985e8d86-618b-46a2-b6db-4a56eee2e51d",
   "metadata": {},
   "outputs": [
    {
     "name": "stdout",
     "output_type": "stream",
     "text": [
      "[3, 4, 5, 6]\n"
     ]
    }
   ],
   "source": [
    "my_list = [1,2,3,4,5,6,7,8,9,10]\n",
    "slice_1 = my_list[2:6]\n",
    "print(slice_1)"
   ]
  },
  {
   "cell_type": "code",
   "execution_count": 17,
   "id": "2028671e-e532-439f-aca0-6717da13d5ca",
   "metadata": {},
   "outputs": [
    {
     "name": "stdout",
     "output_type": "stream",
     "text": [
      "[2, 3, 4, 5, 6, 7, 8, 9, 10]\n"
     ]
    }
   ],
   "source": [
    "slice_2 = my_list[1:]\n",
    "print(slice_2)"
   ]
  },
  {
   "cell_type": "code",
   "execution_count": 19,
   "id": "d186507c-58de-44ca-8b8b-53c859a5596d",
   "metadata": {},
   "outputs": [
    {
     "name": "stdout",
     "output_type": "stream",
     "text": [
      "[1, 2, 3, 4, 5]\n"
     ]
    }
   ],
   "source": [
    "slice_3 = my_list[:5]\n",
    "print(slice_3)"
   ]
  },
  {
   "cell_type": "code",
   "execution_count": 21,
   "id": "cdd9ea10-19bf-4077-b11c-7d3802523ce1",
   "metadata": {},
   "outputs": [
    {
     "name": "stdout",
     "output_type": "stream",
     "text": [
      "[1, 3, 5, 7, 9]\n"
     ]
    }
   ],
   "source": [
    "slice_4 = my_list[::2]\n",
    "print(slice_4)"
   ]
  },
  {
   "cell_type": "code",
   "execution_count": 23,
   "id": "aa05e6ae-4121-404e-b0b2-0ef8c6f298cf",
   "metadata": {},
   "outputs": [
    {
     "name": "stdout",
     "output_type": "stream",
     "text": [
      "World!\n"
     ]
    }
   ],
   "source": [
    "my_string = \"Hello, World!\"\n",
    "slice_5 = my_string[7:]\n",
    "print(slice_5)"
   ]
  },
  {
   "cell_type": "code",
   "execution_count": 25,
   "id": "8eb17e8c-0d94-4438-965d-6d7a35011b16",
   "metadata": {},
   "outputs": [
    {
     "name": "stdout",
     "output_type": "stream",
     "text": [
      "Hello\n"
     ]
    }
   ],
   "source": [
    "slice_6 = my_string[:5]\n",
    "print(slice_6)"
   ]
  },
  {
   "cell_type": "code",
   "execution_count": 27,
   "id": "1a9f67e3-c323-459e-b3ff-682175f0c808",
   "metadata": {},
   "outputs": [
    {
     "name": "stdout",
     "output_type": "stream",
     "text": [
      "Hlo ol!\n"
     ]
    }
   ],
   "source": [
    "slice_7 = my_string[::2]\n",
    "print(slice_7)"
   ]
  },
  {
   "cell_type": "code",
   "execution_count": 29,
   "id": "ef94f2eb-9385-4e69-8fc7-46f36eca77e3",
   "metadata": {},
   "outputs": [
    {
     "name": "stdout",
     "output_type": "stream",
     "text": [
      "[9, 10]\n"
     ]
    }
   ],
   "source": [
    "my_list = [1,2,3,4,5,6,7,8,9,10]\n",
    "slice_8 = my_list[-2:]\n",
    "print(slice_8)"
   ]
  },
  {
   "cell_type": "code",
   "execution_count": 31,
   "id": "148e779e-7d18-4847-8bfa-78dfbc7784a4",
   "metadata": {},
   "outputs": [
    {
     "name": "stdout",
     "output_type": "stream",
     "text": [
      "[1, 2, 3, 4, 5, 6, 7]\n"
     ]
    }
   ],
   "source": [
    "slice_9 = my_list[:-3]\n",
    "print(slice_9)"
   ]
  },
  {
   "cell_type": "code",
   "execution_count": 35,
   "id": "dcf098a5-9dfd-403a-b1d9-fcb7bc45ba32",
   "metadata": {},
   "outputs": [
    {
     "name": "stdout",
     "output_type": "stream",
     "text": [
      "[10, 9, 8, 7, 6, 5, 4, 3, 2, 1]\n"
     ]
    }
   ],
   "source": [
    "slice_10 = my_list[::-1]\n",
    "print(slice_10)"
   ]
  },
  {
   "cell_type": "code",
   "execution_count": null,
   "id": "edcc7b84-0f2a-4daa-be21-e78c9fd0db66",
   "metadata": {},
   "outputs": [],
   "source": []
  }
 ],
 "metadata": {
  "kernelspec": {
   "display_name": "Python [conda env:base] *",
   "language": "python",
   "name": "conda-base-py"
  },
  "language_info": {
   "codemirror_mode": {
    "name": "ipython",
    "version": 3
   },
   "file_extension": ".py",
   "mimetype": "text/x-python",
   "name": "python",
   "nbconvert_exporter": "python",
   "pygments_lexer": "ipython3",
   "version": "3.12.7"
  }
 },
 "nbformat": 4,
 "nbformat_minor": 5
}
